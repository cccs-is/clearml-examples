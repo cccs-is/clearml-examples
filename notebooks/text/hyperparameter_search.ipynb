{
 "cells": [
  {
   "cell_type": "code",
   "execution_count": 1,
   "metadata": {},
   "outputs": [
    {
     "name": "stdout",
     "output_type": "stream",
     "text": [
      "Requirement already satisfied: pandas==1.0.3 in /home/jovyan/conda-envs/clearml/lib/python3.7/site-packages (1.0.3)\n",
      "Requirement already satisfied: python-dateutil>=2.6.1 in /home/jovyan/conda-envs/clearml/lib/python3.7/site-packages (from pandas==1.0.3) (2.8.2)\n",
      "Requirement already satisfied: numpy>=1.13.3 in /home/jovyan/conda-envs/clearml/lib/python3.7/site-packages (from pandas==1.0.3) (1.21.6)\n",
      "Requirement already satisfied: pytz>=2017.2 in /home/jovyan/conda-envs/clearml/lib/python3.7/site-packages (from pandas==1.0.3) (2022.1)\n",
      "Requirement already satisfied: six>=1.5 in /home/jovyan/conda-envs/clearml/lib/python3.7/site-packages (from python-dateutil>=2.6.1->pandas==1.0.3) (1.16.0)\n",
      "Requirement already satisfied: optuna==2.0.0 in /home/jovyan/conda-envs/clearml/lib/python3.7/site-packages (2.0.0)\n",
      "Requirement already satisfied: colorlog in /home/jovyan/conda-envs/clearml/lib/python3.7/site-packages (from optuna==2.0.0) (6.6.0)\n",
      "Requirement already satisfied: alembic in /home/jovyan/conda-envs/clearml/lib/python3.7/site-packages (from optuna==2.0.0) (1.8.0)\n",
      "Requirement already satisfied: tqdm in /home/jovyan/conda-envs/clearml/lib/python3.7/site-packages (from optuna==2.0.0) (4.64.0)\n",
      "Requirement already satisfied: cmaes>=0.5.1 in /home/jovyan/conda-envs/clearml/lib/python3.7/site-packages (from optuna==2.0.0) (0.8.2)\n",
      "Requirement already satisfied: numpy in /home/jovyan/conda-envs/clearml/lib/python3.7/site-packages (from optuna==2.0.0) (1.21.6)\n",
      "Requirement already satisfied: joblib in /home/jovyan/conda-envs/clearml/lib/python3.7/site-packages (from optuna==2.0.0) (1.1.0)\n",
      "Requirement already satisfied: sqlalchemy>=1.1.0 in /home/jovyan/conda-envs/clearml/lib/python3.7/site-packages (from optuna==2.0.0) (1.4.39)\n",
      "Requirement already satisfied: scipy!=1.4.0 in /home/jovyan/conda-envs/clearml/lib/python3.7/site-packages (from optuna==2.0.0) (1.7.3)\n",
      "Requirement already satisfied: packaging in /home/jovyan/conda-envs/clearml/lib/python3.7/site-packages (from optuna==2.0.0) (21.3)\n",
      "Requirement already satisfied: cliff in /home/jovyan/conda-envs/clearml/lib/python3.7/site-packages (from optuna==2.0.0) (3.10.1)\n",
      "Requirement already satisfied: importlib-metadata in /home/jovyan/conda-envs/clearml/lib/python3.7/site-packages (from sqlalchemy>=1.1.0->optuna==2.0.0) (4.12.0)\n",
      "Requirement already satisfied: greenlet!=0.4.17 in /home/jovyan/conda-envs/clearml/lib/python3.7/site-packages (from sqlalchemy>=1.1.0->optuna==2.0.0) (1.1.2)\n",
      "Requirement already satisfied: Mako in /home/jovyan/conda-envs/clearml/lib/python3.7/site-packages (from alembic->optuna==2.0.0) (1.2.1)\n",
      "Requirement already satisfied: importlib-resources in /home/jovyan/conda-envs/clearml/lib/python3.7/site-packages (from alembic->optuna==2.0.0) (5.8.0)\n",
      "Requirement already satisfied: autopage>=0.4.0 in /home/jovyan/conda-envs/clearml/lib/python3.7/site-packages (from cliff->optuna==2.0.0) (0.5.1)\n",
      "Requirement already satisfied: PyYAML>=3.12 in /home/jovyan/conda-envs/clearml/lib/python3.7/site-packages (from cliff->optuna==2.0.0) (6.0)\n",
      "Requirement already satisfied: pyparsing>=2.1.0 in /home/jovyan/conda-envs/clearml/lib/python3.7/site-packages (from cliff->optuna==2.0.0) (3.0.9)\n",
      "Requirement already satisfied: cmd2>=1.0.0 in /home/jovyan/conda-envs/clearml/lib/python3.7/site-packages (from cliff->optuna==2.0.0) (2.4.1)\n",
      "Requirement already satisfied: pbr!=2.1.0,>=2.0.0 in /home/jovyan/conda-envs/clearml/lib/python3.7/site-packages (from cliff->optuna==2.0.0) (5.9.0)\n",
      "Requirement already satisfied: PrettyTable>=0.7.2 in /home/jovyan/conda-envs/clearml/lib/python3.7/site-packages (from cliff->optuna==2.0.0) (3.3.0)\n",
      "Requirement already satisfied: stevedore>=2.0.1 in /home/jovyan/conda-envs/clearml/lib/python3.7/site-packages (from cliff->optuna==2.0.0) (3.5.0)\n",
      "Requirement already satisfied: pyperclip>=1.6 in /home/jovyan/conda-envs/clearml/lib/python3.7/site-packages (from cmd2>=1.0.0->cliff->optuna==2.0.0) (1.8.2)\n",
      "Requirement already satisfied: attrs>=16.3.0 in /home/jovyan/conda-envs/clearml/lib/python3.7/site-packages (from cmd2>=1.0.0->cliff->optuna==2.0.0) (21.4.0)\n",
      "Requirement already satisfied: wcwidth>=0.1.7 in /home/jovyan/conda-envs/clearml/lib/python3.7/site-packages (from cmd2>=1.0.0->cliff->optuna==2.0.0) (0.2.5)\n",
      "Requirement already satisfied: typing-extensions in /home/jovyan/conda-envs/clearml/lib/python3.7/site-packages (from cmd2>=1.0.0->cliff->optuna==2.0.0) (4.3.0)\n",
      "Requirement already satisfied: zipp>=0.5 in /home/jovyan/conda-envs/clearml/lib/python3.7/site-packages (from importlib-metadata->sqlalchemy>=1.1.0->optuna==2.0.0) (3.8.0)\n",
      "Requirement already satisfied: MarkupSafe>=0.9.2 in /home/jovyan/conda-envs/clearml/lib/python3.7/site-packages (from Mako->alembic->optuna==2.0.0) (2.1.1)\n"
     ]
    }
   ],
   "source": [
    "# execute this in command line on all machines to be used as workers before initiating the hyperparamer search \n",
    "# ! pip install -U clearml-agent==0.15.0\n",
    "# ! clearml-agent daemon --queue default\n",
    "\n",
    "# pip install with locked versions\n",
    "! pip install -U pandas==1.0.3\n",
    "! pip install -U clearml>=0.16.2\n",
    "! pip install -U optuna==2.0.0"
   ]
  },
  {
   "cell_type": "code",
   "execution_count": 2,
   "metadata": {},
   "outputs": [
    {
     "name": "stderr",
     "output_type": "stream",
     "text": [
      "/home/jovyan/conda-envs/clearml/lib/python3.7/site-packages/tqdm/auto.py:22: TqdmWarning: IProgress not found. Please update jupyter and ipywidgets. See https://ipywidgets.readthedocs.io/en/stable/user_install.html\n",
      "  from .autonotebook import tqdm as notebook_tqdm\n"
     ]
    }
   ],
   "source": [
    "from clearml.automation import UniformParameterRange, UniformIntegerParameterRange\n",
    "from clearml.automation import HyperParameterOptimizer\n",
    "from clearml.automation.optuna import OptimizerOptuna\n",
    "\n",
    "from clearml import Task"
   ]
  },
  {
   "cell_type": "code",
   "execution_count": 3,
   "metadata": {},
   "outputs": [
    {
     "name": "stdout",
     "output_type": "stream",
     "text": [
      "ClearML Task: created new task id=bbe932f1f53b45889eda5a09eccb136d\n",
      "2022-07-11 23:42:30,630 - clearml.Task - INFO - No repository found, storing script code instead\n",
      "ClearML results page: https://clearml-app.art.azure.cse-cst.gc.ca/projects/28770c0a8a46400ebbdb429d170a2a5a/experiments/bbe932f1f53b45889eda5a09eccb136d/output/log\n",
      "ClearML results page: https://clearml-app.art.azure.cse-cst.gc.ca/projects/28770c0a8a46400ebbdb429d170a2a5a/experiments/bbe932f1f53b45889eda5a09eccb136d/output/log\n",
      "ClearML Monitor: GPU monitoring failed getting GPU reading, switching off GPU monitoring\n"
     ]
    }
   ],
   "source": [
    "task = Task.init(project_name='Hyperparameter Optimization with Optuna',\n",
    "                 task_name='Hyperparameter Search',\n",
    "                 task_type=Task.TaskTypes.optimizer)\n"
   ]
  },
  {
   "cell_type": "code",
   "execution_count": 4,
   "metadata": {},
   "outputs": [],
   "source": [
    "#####################################################################\n",
    "### Don't forget to replace this default id with your own task id ###\n",
    "#####################################################################\n",
    "TEMPLATE_TASK_ID = '4bc2b595cb2c45e88f69a8e4d20b24f2'"
   ]
  },
  {
   "cell_type": "code",
   "execution_count": 5,
   "metadata": {},
   "outputs": [
    {
     "name": "stdout",
     "output_type": "stream",
     "text": [
      "2022-07-11 23:43:36,844 - clearml.automation.optimization - WARNING - Could not find requested hyper-parameters ['number_of_epochs', 'batch_size', 'ngrams', 'base_lr'] on base task 4bc2b595cb2c45e88f69a8e4d20b24f2\n",
      "2022-07-11 23:43:36,861 - clearml.automation.optimization - WARNING - Could not find requested metric ('accuracy', 'total') report on base task 4bc2b595cb2c45e88f69a8e4d20b24f2\n"
     ]
    }
   ],
   "source": [
    "optimizer = HyperParameterOptimizer(\n",
    "    base_task_id=TEMPLATE_TASK_ID,  # This is the experiment we want to optimize\n",
    "    # here we define the hyper-parameters to optimize\n",
    "    hyper_parameters=[\n",
    "        UniformIntegerParameterRange('number_of_epochs', min_value=2, max_value=6, step_size=2),\n",
    "        UniformIntegerParameterRange('batch_size', min_value=8, max_value=16, step_size=2),\n",
    "        UniformIntegerParameterRange('ngrams', min_value=2, max_value=4, step_size=1),\n",
    "        UniformParameterRange('base_lr', min_value=0.4, max_value=1.0, step_size=0.2),\n",
    "    ],\n",
    "    # setting the objective metric we want to maximize/minimize\n",
    "    objective_metric_title='accuracy',\n",
    "    objective_metric_series='total',\n",
    "    objective_metric_sign='max',  # maximize or minimize the objective metric\n",
    "\n",
    "    # setting optimizer - clearml supports GridSearch, RandomSearch, OptimizerBOHB and OptimizerOptuna\n",
    "    optimizer_class=OptimizerOptuna,\n",
    "    \n",
    "    # Configuring optimization parameters\n",
    "    execution_queue='queue-dev',  # queue to schedule the experiments for execution\n",
    "    max_number_of_concurrent_tasks=2,  # number of concurrent experiments\n",
    "    optimization_time_limit=60.,  # set the time limit for the optimization process\n",
    "    compute_time_limit=120,  # set the compute time limit (sum of execution time on all machines)\n",
    "    total_max_jobs=20,  # set the maximum number of experiments for the optimization. \n",
    "                        # Converted to total number of iteration for OptimizerBOHB\n",
    "    min_iteration_per_job=15000,  # minimum number of iterations per experiment, till early stopping\n",
    "    max_iteration_per_job=150000,  # maximum number of iterations per experiment\n",
    ")"
   ]
  },
  {
   "cell_type": "code",
   "execution_count": null,
   "metadata": {},
   "outputs": [
    {
     "name": "stdout",
     "output_type": "stream",
     "text": [
      "Progress report #0 completed, sleeping for 0.25 minutes\n",
      "2022-07-11 23:43:40,458 - clearml.automation.optimization - INFO - Creating new Task: {'number_of_epochs': 4, 'batch_size': 14, 'ngrams': 3, 'base_lr': 0.6000000000000001}\n",
      "2022-07-11 23:43:40,720 - clearml.automation.optimization - INFO - Creating new Task: {'number_of_epochs': 2, 'batch_size': 16, 'ngrams': 4, 'base_lr': 0.6000000000000001}\n",
      "Progress report #1 completed, sleeping for 1.0 minutes\n",
      "Progress report #2 completed, sleeping for 1.0 minutes\n",
      "Progress report #3 completed, sleeping for 1.0 minutes\n",
      "Progress report #4 completed, sleeping for 1.0 minutes\n",
      "Progress report #5 completed, sleeping for 1.0 minutes\n",
      "Progress report #6 completed, sleeping for 1.0 minutes\n",
      "Progress report #7 completed, sleeping for 1.0 minutes\n",
      "Progress report #8 completed, sleeping for 1.0 minutes\n",
      "Progress report #9 completed, sleeping for 1.0 minutes\n",
      "Progress report #10 completed, sleeping for 1.0 minutes\n",
      "Progress report #11 completed, sleeping for 1.0 minutes\n",
      "Progress report #12 completed, sleeping for 1.0 minutes\n"
     ]
    },
    {
     "name": "stderr",
     "output_type": "stream",
     "text": [
      "\u001b[33m[W 2022-07-11 23:55:41,393]\u001b[0m Trial 0 failed, because the returned value from the objective function cannot be cast to float. Returned value is: None\u001b[0m\n"
     ]
    },
    {
     "name": "stdout",
     "output_type": "stream",
     "text": [
      "OptunaObjective result metric=None, iteration None\n",
      "2022-07-11 23:55:41,549 - clearml.automation.optimization - INFO - Creating new Task: {'number_of_epochs': 4, 'batch_size': 12, 'ngrams': 3, 'base_lr': 0.4}\n"
     ]
    },
    {
     "name": "stderr",
     "output_type": "stream",
     "text": [
      "\u001b[33m[W 2022-07-11 23:55:41,739]\u001b[0m Trial 1 failed, because the returned value from the objective function cannot be cast to float. Returned value is: None\u001b[0m\n"
     ]
    },
    {
     "name": "stdout",
     "output_type": "stream",
     "text": [
      "OptunaObjective result metric=None, iteration None\n",
      "2022-07-11 23:55:41,880 - clearml.automation.optimization - INFO - Creating new Task: {'number_of_epochs': 4, 'batch_size': 12, 'ngrams': 2, 'base_lr': 0.4}\n",
      "Progress report #13 completed, sleeping for 1.0 minutes\n",
      "Progress report #14 completed, sleeping for 1.0 minutes\n",
      "Progress report #15 completed, sleeping for 1.0 minutes\n",
      "Progress report #16 completed, sleeping for 1.0 minutes\n"
     ]
    }
   ],
   "source": [
    "optimizer.set_report_period(1)  # setting the time gap between two consecutive reports\n",
    "optimizer.start()  \n",
    "optimizer.wait()  # wait until process is done\n",
    "optimizer.stop()  # make sure background optimization stopped"
   ]
  },
  {
   "cell_type": "code",
   "execution_count": null,
   "metadata": {},
   "outputs": [],
   "source": [
    "# optimization is completed, print the top performing experiments id\n",
    "k = 3\n",
    "top_exp = optimizer.get_top_experiments(top_k=k)\n",
    "print('Top {} experiments are:'.format(k))\n",
    "for n, t in enumerate(top_exp, 1):\n",
    "    print('Rank {}: task id={} |result={}'\n",
    "          .format(n, t.id, t.get_last_scalar_metrics()['accuracy']['total']['last']))"
   ]
  }
 ],
 "metadata": {
  "kernelspec": {
   "display_name": "Python [conda env:clearml]",
   "language": "python",
   "name": "conda-env-clearml-py"
  },
  "language_info": {
   "codemirror_mode": {
    "name": "ipython",
    "version": 3
   },
   "file_extension": ".py",
   "mimetype": "text/x-python",
   "name": "python",
   "nbconvert_exporter": "python",
   "pygments_lexer": "ipython3",
   "version": "3.7.6"
  }
 },
 "nbformat": 4,
 "nbformat_minor": 4
}
